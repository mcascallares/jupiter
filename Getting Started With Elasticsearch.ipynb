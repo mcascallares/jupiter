{
 "cells": [
  {
   "cell_type": "markdown",
   "metadata": {},
   "source": [
    "<img src=\"https://static-www.elastic.co/assets/blt9a26f88bfbd20eb5/icon-elasticsearch-bb.svg\" width=\"200\" />\n",
    "\n",
    "\n",
    "# Getting Started With Elasticsearch"
   ]
  },
  {
   "cell_type": "markdown",
   "metadata": {},
   "source": [
    "## Overview"
   ]
  },
  {
   "cell_type": "markdown",
   "metadata": {},
   "source": [
    "Elasticsearch is an open-source search engine built on top of Apache Lucene™, a full-text search-engine library. Lucene is arguably the most advanced, high-performance, and fully featured search engine library in existence today—both open source and proprietary.\n",
    "\n",
    "But Lucene is just a library. To leverage its power, you need to work in Java and to integrate Lucene directly with your application. Worse, you will likely require a degree in information retrieval to understand how it works. Lucene is very complex.\n",
    "\n",
    "Elasticsearch is also written in Java and uses Lucene internally for all of its indexing and searching, but it aims to make full-text search easy by hiding the complexities of Lucene behind a simple, coherent, RESTful API.\n",
    "\n",
    "[More details here](https://www.elastic.co/guide/en/elasticsearch/guide/current/intro.html)"
   ]
  },
  {
   "cell_type": "markdown",
   "metadata": {},
   "source": [
    "## Clients"
   ]
  },
  {
   "cell_type": "markdown",
   "metadata": {},
   "source": [
    "We provide clients for different programming languages that wrap the REST API:\n",
    "* Java\n",
    "* Java REST\n",
    "* JavaScript\n",
    "* Groovy\n",
    "* .NET\n",
    "* PHP\n",
    "* Perl\n",
    "* Python\n",
    "* Ruby"
   ]
  },
  {
   "cell_type": "markdown",
   "metadata": {},
   "source": [
    "## Hands-on"
   ]
  },
  {
   "cell_type": "markdown",
   "metadata": {},
   "source": [
    "### Accessing Using Python Client\n",
    "\n",
    "This client was designed as very thin wrapper around Elasticseach’s REST API to allow for maximum flexibility.  More details [here](https://elasticsearch-py.readthedocs.io/en/master/).\n",
    "\n",
    "Using the `Elasticsearch` client we can provide different arguments like hosts, ports , credentials, etc."
   ]
  },
  {
   "cell_type": "code",
   "execution_count": 1,
   "metadata": {
    "collapsed": false
   },
   "outputs": [
    {
     "name": "stdout",
     "output_type": "stream",
     "text": [
      "True\n"
     ]
    }
   ],
   "source": [
    "from elasticsearch import Elasticsearch\n",
    "\n",
    "es = Elasticsearch(['localhost:9200'])\n",
    "print es.ping() # can you hear me now?"
   ]
  },
  {
   "cell_type": "markdown",
   "metadata": {},
   "source": [
    "### Getting Cluster Information\n",
    "\n",
    "Elasticsearch provides different APIs to get information regarding cluster health,  nodes, indices and shards among others.\n",
    "\n",
    "Thea health command tells us the status of our cluster. It can be green, yellow or red. The argument `v=True` is to get a more verbose output:"
   ]
  },
  {
   "cell_type": "code",
   "execution_count": 2,
   "metadata": {
    "collapsed": false
   },
   "outputs": [
    {
     "name": "stdout",
     "output_type": "stream",
     "text": [
      "epoch      timestamp cluster       status node.total node.data shards pri relo init unassign pending_tasks max_task_wait_time active_shards_percent\n",
      "1482299730 13:55:30  elasticsearch yellow          1         1     10  10    0    0       10             0                  -                 50.0%\n",
      "\n"
     ]
    }
   ],
   "source": [
    "print es.cat.health(v=True)"
   ]
  },
  {
   "cell_type": "markdown",
   "metadata": {},
   "source": [
    "The nodes command shows the cluster topology:"
   ]
  },
  {
   "cell_type": "code",
   "execution_count": 3,
   "metadata": {
    "collapsed": false
   },
   "outputs": [
    {
     "name": "stdout",
     "output_type": "stream",
     "text": [
      "ip        heap.percent ram.percent cpu load_1m load_5m load_15m node.role master name\n",
      "127.0.0.1           19         100  61    4.83                  mdi       *      RQf38mS\n",
      "\n"
     ]
    }
   ],
   "source": [
    "print es.cat.nodes(v=True)"
   ]
  },
  {
   "cell_type": "markdown",
   "metadata": {},
   "source": [
    "The indices command provides a cross-section of each index. This information spans nodes:"
   ]
  },
  {
   "cell_type": "code",
   "execution_count": 4,
   "metadata": {
    "collapsed": false
   },
   "outputs": [
    {
     "name": "stdout",
     "output_type": "stream",
     "text": [
      "health status index  uuid                   pri rep docs.count docs.deleted store.size pri.store.size\n",
      "yellow open   users  Fb7EAeguQKag7JqO0zpMiQ   5   1         16            0       73kb           73kb\n",
      "yellow open   movies dQyDdE7aSNmvoeq7eLJMEw   5   1      40344            0     64.6mb         64.6mb\n",
      "\n"
     ]
    }
   ],
   "source": [
    "print es.cat.indices(v=True)"
   ]
  },
  {
   "cell_type": "markdown",
   "metadata": {},
   "source": [
    "The shards command is the detailed view of what nodes contain which shards. It will tell you if it’s a primary or replica, the number of docs, the bytes it takes on disk, and the node where it’s located:"
   ]
  },
  {
   "cell_type": "code",
   "execution_count": 5,
   "metadata": {
    "collapsed": false
   },
   "outputs": [
    {
     "name": "stdout",
     "output_type": "stream",
     "text": [
      "index  shard prirep state      docs  store ip        node\n",
      "users  1     p      STARTED       1  4.6kb 127.0.0.1 RQf38mS\n",
      "users  1     r      UNASSIGNED                       \n",
      "users  2     p      STARTED       3 13.6kb 127.0.0.1 RQf38mS\n",
      "users  2     r      UNASSIGNED                       \n",
      "users  3     p      STARTED       6 27.2kb 127.0.0.1 RQf38mS\n",
      "users  3     r      UNASSIGNED                       \n",
      "users  4     p      STARTED       4 18.2kb 127.0.0.1 RQf38mS\n",
      "users  4     r      UNASSIGNED                       \n",
      "users  0     p      STARTED       2  9.2kb 127.0.0.1 RQf38mS\n",
      "users  0     r      UNASSIGNED                       \n",
      "movies 1     p      STARTED    7982   12mb 127.0.0.1 RQf38mS\n",
      "movies 1     r      UNASSIGNED                       \n",
      "movies 2     p      STARTED    8101 13.5mb 127.0.0.1 RQf38mS\n",
      "movies 2     r      UNASSIGNED                       \n",
      "movies 3     p      STARTED    8033 13.4mb 127.0.0.1 RQf38mS\n",
      "movies 3     r      UNASSIGNED                       \n",
      "movies 4     p      STARTED    8196 13.5mb 127.0.0.1 RQf38mS\n",
      "movies 4     r      UNASSIGNED                       \n",
      "movies 0     p      STARTED    8032   12mb 127.0.0.1 RQf38mS\n",
      "movies 0     r      UNASSIGNED                       \n",
      "\n"
     ]
    }
   ],
   "source": [
    "print es.cat.shards(v=True)"
   ]
  },
  {
   "cell_type": "markdown",
   "metadata": {},
   "source": [
    "### Indexing Data"
   ]
  },
  {
   "cell_type": "markdown",
   "metadata": {},
   "source": [
    "The index API adds or updates a typed JSON document in a specific index, making it searchable. The following example inserts a JSON document into the `users` index, under a type called `tweet`:"
   ]
  },
  {
   "cell_type": "code",
   "execution_count": 6,
   "metadata": {
    "collapsed": false
   },
   "outputs": [
    {
     "name": "stdout",
     "output_type": "stream",
     "text": [
      "{\n",
      "  \"_type\": \"user\", \n",
      "  \"_shards\": {\n",
      "    \"successful\": 1, \n",
      "    \"failed\": 0, \n",
      "    \"total\": 2\n",
      "  }, \n",
      "  \"_index\": \"users\", \n",
      "  \"_version\": 1, \n",
      "  \"created\": true, \n",
      "  \"result\": \"created\", \n",
      "  \"_id\": \"AVkf8uo8SIVCcDa64dMr\"\n",
      "}\n"
     ]
    }
   ],
   "source": [
    "doc = {\n",
    "    'name  '  : 'Mati22222as Cascallares',\n",
    "    'twitter' : 'mcascallares',\n",
    "    'location': 'Singapore',\n",
    "}\n",
    "response = es.index(index='users', doc_type='user', body=doc)\n",
    "\n",
    "import json # pretty print\n",
    "print json.dumps(response, indent=2)"
   ]
  },
  {
   "cell_type": "markdown",
   "metadata": {
    "heading_collapsed": true
   },
   "source": [
    "### Searching Data\n",
    "\n",
    "The search API allows you to execute a search query and get back search hits that match the query. All search APIs can be applied across multiple types within an index, and across multiple indices with support for the multi index syntax. For example, we can search on all documents across all types within the `users` index:"
   ]
  },
  {
   "cell_type": "code",
   "execution_count": 7,
   "metadata": {
    "collapsed": false,
    "hidden": true
   },
   "outputs": [
    {
     "name": "stdout",
     "output_type": "stream",
     "text": [
      "{\n",
      "  \"hits\": {\n",
      "    \"hits\": [\n",
      "      {\n",
      "        \"_score\": 1.5404451, \n",
      "        \"_type\": \"user\", \n",
      "        \"_id\": \"AVkbYT621nb8p2CYof6Q\", \n",
      "        \"_source\": {\n",
      "          \"twitter\": \"mcascallares\", \n",
      "          \"location\": \"Singapore\", \n",
      "          \"name  \": \"Matias Cascallares\"\n",
      "        }, \n",
      "        \"_index\": \"users\"\n",
      "      }\n",
      "    ], \n",
      "    \"total\": 1, \n",
      "    \"max_score\": 1.5404451\n",
      "  }, \n",
      "  \"_shards\": {\n",
      "    \"successful\": 5, \n",
      "    \"failed\": 0, \n",
      "    \"total\": 5\n",
      "  }, \n",
      "  \"took\": 13, \n",
      "  \"timed_out\": false\n",
      "}\n"
     ]
    }
   ],
   "source": [
    "response = es.search(q='matias', index='users')\n",
    "print json.dumps(response, indent=2)"
   ]
  },
  {
   "cell_type": "markdown",
   "metadata": {},
   "source": [
    "### Searching Using DSL\n",
    "\n",
    "Elasticsearch DSL is a high-level library whose aim is to help with writing and running queries against Elasticsearch. It is built on top of the official low-level client (elasticsearch-py).\n",
    "\n",
    "It provides a more convenient and idiomatic way to write and manipulate queries. It stays close to the Elasticsearch JSON DSL, mirroring its terminology and structure. It exposes the whole range of the DSL from Python either directly using defined classes or a queryset-like expressions."
   ]
  },
  {
   "cell_type": "code",
   "execution_count": 8,
   "metadata": {
    "collapsed": false
   },
   "outputs": [
    {
     "name": "stdout",
     "output_type": "stream",
     "text": [
      "<Result(users/user/AVkf5bXzSIVCcDa64Vzp): {u'twitter': u'mcascallares', u'location': u'Singapore', u'n...}>\n",
      "<Result(users/user/AVkbZQZ41nb8p2CYoiX8): {u'twitter': u'mcascallares', u'location': u'Singapore', u'n...}>\n",
      "<Result(users/user/AVkf5w9ASIVCcDa64Vzq): {u'twitter': u'mcascallares', u'location': u'Singapore', u'n...}>\n",
      "<Result(users/user/AVkbY2qi1nb8p2CYoiX3): {u'twitter': u'mcascallares', u'location': u'Singapore', u'n...}>\n",
      "<Result(users/user/AVkf8NKsSIVCcDa64ZgP): {u'twitter': u'mcascallares', u'location': u'Singapore', u'n...}>\n",
      "<Result(users/user/AVkf8SgNSIVCcDa64avD): {u'twitter': u'mcascallares', u'location': u'Singapore', u'n...}>\n",
      "<Result(users/user/AVkbY_o31nb8p2CYoiX5): {u'twitter': u'mcascallares', u'location': u'Singapore', u'n...}>\n",
      "<Result(users/user/AVkbZBh91nb8p2CYoiX6): {u'twitter': u'mcascallares', u'location': u'Singapore', u'n...}>\n",
      "<Result(users/user/AVkf4xl7SIVCcDa64Vze): {u'twitter': u'mcascallares', u'location': u'Singapore', u'n...}>\n",
      "<Result(users/user/AVkf6LllSIVCcDa64XCf): {u'twitter': u'mcascallares', u'location': u'Singapore', u'n...}>\n"
     ]
    }
   ],
   "source": [
    "from elasticsearch_dsl import Search, Q\n",
    "\n",
    "# let's build a search object\n",
    "search = Search(using=es, index='users').query('match', location='Singapore')\n",
    "response = search.execute()\n",
    "\n",
    "# it's an iterable containing Result objects\n",
    "for i in response:\n",
    "    print(i)"
   ]
  },
  {
   "cell_type": "markdown",
   "metadata": {},
   "source": [
    "## A Real Example: IMDB Dataset"
   ]
  },
  {
   "cell_type": "markdown",
   "metadata": {},
   "source": [
    "Let's import a [dataset containing 5000 movies from IMDB](https://www.kaggle.com/deepmatrix/imdb-5000-movie-dataset) into Elasticsearch. First, let's load those 5K movies from the CSV file:"
   ]
  },
  {
   "cell_type": "code",
   "execution_count": 1,
   "metadata": {
    "collapsed": false
   },
   "outputs": [
    {
     "name": "stdout",
     "output_type": "stream",
     "text": [
      "5043\n"
     ]
    }
   ],
   "source": [
    "import csv\n",
    "movies = []\n",
    "with open('datasets/imdb-5000-movie-dataset.csv', 'rb') as csvfile:\n",
    "    reader = csv.DictReader(csvfile)\n",
    "    movies = [i for i in reader]\n",
    "print len(movies)"
   ]
  },
  {
   "cell_type": "markdown",
   "metadata": {},
   "source": [
    "Now let's index those movies into Elasticsearch using the bulk API:"
   ]
  },
  {
   "cell_type": "code",
   "execution_count": 10,
   "metadata": {
    "collapsed": false
   },
   "outputs": [
    {
     "data": {
      "text/plain": [
       "(5043, [])"
      ]
     },
     "execution_count": 10,
     "metadata": {},
     "output_type": "execute_result"
    }
   ],
   "source": [
    "from elasticsearch import helpers\n",
    "\n",
    "# required fields\n",
    "action = {\n",
    "    '_index' : 'movies',\n",
    "    '_type' : 'movie'\n",
    "}\n",
    "helpers.bulk(es, [dict(action.items() + i.items()) for i in movies])"
   ]
  }
 ],
 "metadata": {
  "kernelspec": {
   "display_name": "Python 2",
   "language": "python",
   "name": "python2"
  },
  "language_info": {
   "codemirror_mode": {
    "name": "ipython",
    "version": 2
   },
   "file_extension": ".py",
   "mimetype": "text/x-python",
   "name": "python",
   "nbconvert_exporter": "python",
   "pygments_lexer": "ipython2",
   "version": "2.7.13"
  },
  "toc": {
   "colors": {
    "hover_highlight": "#DAA520",
    "running_highlight": "#FF0000",
    "selected_highlight": "#FFD700"
   },
   "moveMenuLeft": true,
   "nav_menu": {
    "height": "195px",
    "width": "252px"
   },
   "navigate_menu": true,
   "number_sections": true,
   "sideBar": true,
   "threshold": 4,
   "toc_cell": false,
   "toc_section_display": "block",
   "toc_window_display": true
  }
 },
 "nbformat": 4,
 "nbformat_minor": 2
}
